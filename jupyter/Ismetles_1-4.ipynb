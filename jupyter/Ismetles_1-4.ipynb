{
 "cells": [
  {
   "cell_type": "markdown",
   "metadata": {},
   "source": [
    "### Ismétlés (1 - 4)"
   ]
  },
  {
   "cell_type": "markdown",
   "metadata": {},
   "source": [
    "Az elmúlt hetekben megismertük a python nyelv alapjait és a programozás olyan alapfogalmait, mint a __változó__, az __objektum__ és a __függvény__, valamint megismertünk néhány alapvető __típust__, mint az __int__, a __float__, a __sztring__ (str) és a __lista__ (list). Láttuk azt is, hogyan kell __elágazásokat__ írni az _if_, _elif_, _else_ szavak használatával, amikor azt szeretnénk, hogy egy program bizonyos feltételektől tegye függővé, hogy több kódrészlet közül melyiket futtatja le. Ez a notebook átismétli az első négy notebook anyagát és további gyakorlófeladatokat is tartalmaz."
   ]
  },
  {
   "cell_type": "markdown",
   "metadata": {},
   "source": [
    "#### Változók, típusok"
   ]
  },
  {
   "cell_type": "markdown",
   "metadata": {},
   "source": [
    "Ha egy objektumot elnevezünk, akkor betesszük egy __változóba__, ez az __értékadás__. Ilyenkor leírjuk az új változó nevét, majd egy egyenlőségjel után az adatot, amire a változó ezentúl hivatkozni fog:"
   ]
  },
  {
   "cell_type": "code",
   "execution_count": 14,
   "metadata": {
    "collapsed": true
   },
   "outputs": [],
   "source": [
    "szam = 3\n",
    "tortszam = 3.14\n",
    "szoveg = \"pingvin\"\n",
    "lista = [1,2,3]"
   ]
  },
  {
   "cell_type": "markdown",
   "metadata": {},
   "source": [
    "A változók neve nem tartalmazhat ékezetet és még néhány más karaktert, és nem eshet egybe olyan szavakkal, amik jelentenek pythonban valamit (pl. __def__ vagy __return__). De egyébként mindegy, hogy minek nevezzük őket, csak ajánlatos olyan nevet adni nekik, amiből emlékezni fogunk rá, hogy milyen adatot tartalmaz. Vigyázni kell, nehogy kétszer ugyanazt a nevet használjuk, mert ekkor az új értékadás felülírja a régit. Ugyanezért ne használjunk olyan szavakat sem, amik beépített függvények nevei."
   ]
  },
  {
   "cell_type": "markdown",
   "metadata": {},
   "source": [
    "Egy objektum __típusa__ az, hogy milyen fajta adatot tartalmaz, ez azt is leszűkíti, hogy mit lehet vele csinálni. A _type_ függvénnyel ellenőrizhetjük egy-egy objektum típusát."
   ]
  },
  {
   "cell_type": "code",
   "execution_count": 15,
   "metadata": {
    "collapsed": false
   },
   "outputs": [
    {
     "name": "stdout",
     "output_type": "stream",
     "text": [
      "<class 'int'>\n",
      "<class 'float'>\n",
      "<class 'str'>\n",
      "<class 'list'>\n"
     ]
    }
   ],
   "source": [
    "print(type(szam))\n",
    "print(type(tortszam))\n",
    "print(type(szoveg))\n",
    "print(type(lista))"
   ]
  },
  {
   "cell_type": "markdown",
   "metadata": {},
   "source": [
    "A típusok neve egyben az a parancs is, amivel más típusú objektumokat az adott típusra konvertálhatunk - már amikor ennek van értelme:"
   ]
  },
  {
   "cell_type": "code",
   "execution_count": 11,
   "metadata": {
    "collapsed": false
   },
   "outputs": [
    {
     "data": {
      "text/plain": [
       "3"
      ]
     },
     "execution_count": 11,
     "metadata": {},
     "output_type": "execute_result"
    }
   ],
   "source": [
    "int(tortszam)"
   ]
  },
  {
   "cell_type": "code",
   "execution_count": 10,
   "metadata": {
    "collapsed": false
   },
   "outputs": [
    {
     "data": {
      "text/plain": [
       "3.0"
      ]
     },
     "execution_count": 10,
     "metadata": {},
     "output_type": "execute_result"
    }
   ],
   "source": [
    "float(szam)"
   ]
  },
  {
   "cell_type": "code",
   "execution_count": 9,
   "metadata": {
    "collapsed": false
   },
   "outputs": [
    {
     "data": {
      "text/plain": [
       "'3'"
      ]
     },
     "execution_count": 9,
     "metadata": {},
     "output_type": "execute_result"
    }
   ],
   "source": [
    "str(szam)"
   ]
  },
  {
   "cell_type": "markdown",
   "metadata": {},
   "source": [
    "#### Függvények"
   ]
  },
  {
   "cell_type": "markdown",
   "metadata": {},
   "source": [
    "Függvénynek hívjuk azokat az objektumokat, amik maguk is kisebb-nagyobb utasítássorozatokat, tehát programokat tartalmaznak. Amikor egy ilyen programot futtatunk, azt mondjuk, __meghívjuk__ a függvényt. Ha a függvénynek szüksége van egy vagy több objektumra, amikből dolgozik, ezeket a függvény __argumentumainak__ hívjuk, és azt mondjuk, a függvénynek __átadjuk__ ezeket, amikor hívjuk a függvényt."
   ]
  },
  {
   "cell_type": "markdown",
   "metadata": {},
   "source": [
    "Itt például a _print_ függvénynek adunk át két argumentumot, a két sztring a függvény __bemenete__:"
   ]
  },
  {
   "cell_type": "code",
   "execution_count": 12,
   "metadata": {
    "collapsed": false
   },
   "outputs": [
    {
     "name": "stdout",
     "output_type": "stream",
     "text": [
      "Hosszú Katinka\n"
     ]
    }
   ],
   "source": [
    "print(\"Hosszú\", \"Katinka\")"
   ]
  },
  {
   "cell_type": "markdown",
   "metadata": {},
   "source": [
    "Ha egy függvény le is gyárt nekünk egy vagy több objektumot, akkor azt mondjuk, hogy ezeket __adja vissza__ (return), más szóval ez a __kimenete__ (output). A _len_ függvény pl. egy számot ad vissza:"
   ]
  },
  {
   "cell_type": "code",
   "execution_count": 13,
   "metadata": {
    "collapsed": false
   },
   "outputs": [
    {
     "data": {
      "text/plain": [
       "7"
      ]
     },
     "execution_count": 13,
     "metadata": {},
     "output_type": "execute_result"
    }
   ],
   "source": [
    "len(\"pingvin\")"
   ]
  },
  {
   "cell_type": "markdown",
   "metadata": {},
   "source": [
    "Egy függvény kimenetét betehetjük egy változóba is:"
   ]
  },
  {
   "cell_type": "code",
   "execution_count": 17,
   "metadata": {
    "collapsed": false
   },
   "outputs": [
    {
     "data": {
      "text/plain": [
       "7"
      ]
     },
     "execution_count": 17,
     "metadata": {},
     "output_type": "execute_result"
    }
   ],
   "source": [
    "hossz = len(\"pingvin\")\n",
    "hossz"
   ]
  },
  {
   "cell_type": "markdown",
   "metadata": {},
   "source": [
    "Amikor mi írunk új függvényt, azt mondjuk, hogy __definiáljuk__. Azt a kódot, ami megmondja, mit kell csinálnia egy függvénynek, __definíciónak__ hívjuk. Egy definíció első sora megadja, hogy mi lesz a függvény neve, és hogy milyen neveken fog hivatkozni a bemeneteire majd tartalmazza magát a kódot, amit futtatni fog. Ha függvény vissza is ad egy vagy több dolgot, akkor a definícióban a _return_ parancs fogja jelezni, hogy hol és melyik objetumo(ka)t kell visszaadni."
   ]
  },
  {
   "cell_type": "markdown",
   "metadata": {},
   "source": [
    "Ez a program például két számot vár bemenetként, ezeket összeadja, és az eredményt adja vissza:"
   ]
  },
  {
   "cell_type": "code",
   "execution_count": 18,
   "metadata": {
    "collapsed": true
   },
   "outputs": [],
   "source": [
    "def osszead(egyik_szam, masik_szam):\n",
    "    return egyik_szam + masik_szam"
   ]
  },
  {
   "cell_type": "code",
   "execution_count": 19,
   "metadata": {
    "collapsed": false
   },
   "outputs": [
    {
     "data": {
      "text/plain": [
       "8"
      ]
     },
     "execution_count": 19,
     "metadata": {},
     "output_type": "execute_result"
    }
   ],
   "source": [
    "osszead(3, 5)"
   ]
  },
  {
   "cell_type": "markdown",
   "metadata": {},
   "source": [
    "Ilyen egyszerű műveleteket persze nem szoktunk magunk megírni, mert már léteznek beépítve a pythonba, pl. a _3+5_ kifejezés épp ugyanazt csinálja, mint az _osszead(3, 5)_."
   ]
  },
  {
   "cell_type": "markdown",
   "metadata": {},
   "source": [
    "__I1.1 FELADAT__. Definiálj egy függvényt, aminek két számot lehet átadni és visszaadja az összegüket. Működjön akkor is, ha bármelyik bemenet sztring típusú."
   ]
  },
  {
   "cell_type": "code",
   "execution_count": 20,
   "metadata": {
    "collapsed": true
   },
   "outputs": [],
   "source": [
    "#def osszead2(egyik_szam, masik_szam):\n",
    "#    ...    \n",
    "#\n",
    "#osszead2(\"3\", 2.4)"
   ]
  },
  {
   "cell_type": "markdown",
   "metadata": {},
   "source": [
    "Az __input__ paranccsal tudunk beolvasni egy sztringet a felhasználótól:"
   ]
  },
  {
   "cell_type": "code",
   "execution_count": 28,
   "metadata": {
    "collapsed": false
   },
   "outputs": [
    {
     "name": "stdout",
     "output_type": "stream",
     "text": [
      "Hogy hívnak?\n",
      "Gábor\n",
      "Szia Gábor!\n"
     ]
    }
   ],
   "source": [
    "def koszones():\n",
    "    print(\"Hogy hívnak?\")\n",
    "    nev = input()\n",
    "    print(\"Szia\", nev+\"!\")\n",
    "\n",
    "koszones()"
   ]
  },
  {
   "cell_type": "markdown",
   "metadata": {},
   "source": [
    "Néhány függvényt máshogy kell futtatni: annak az objektumnak a neve után írjuk ilyenkor a függvény nevét, amit átadunk a függvénynek:"
   ]
  },
  {
   "cell_type": "code",
   "execution_count": 29,
   "metadata": {
    "collapsed": false
   },
   "outputs": [
    {
     "data": {
      "text/plain": [
       "'PINGVIN'"
      ]
     },
     "execution_count": 29,
     "metadata": {},
     "output_type": "execute_result"
    }
   ],
   "source": [
    "szo = \"pingvin\"\n",
    "szo.upper()"
   ]
  },
  {
   "cell_type": "markdown",
   "metadata": {},
   "source": [
    "__I1.2 FELADAT__ Írj egy függvényt, aminek két szó a bemenete és kiírja, milyen hosszú a kettő együtt.\n",
    "\n",
    "__Két megoldást is mutass!__"
   ]
  },
  {
   "cell_type": "code",
   "execution_count": null,
   "metadata": {
    "collapsed": true
   },
   "outputs": [],
   "source": []
  },
  {
   "cell_type": "code",
   "execution_count": null,
   "metadata": {
    "collapsed": true
   },
   "outputs": [],
   "source": []
  },
  {
   "cell_type": "markdown",
   "metadata": {},
   "source": [
    "#### Elágazások"
   ]
  },
  {
   "cell_type": "markdown",
   "metadata": {},
   "source": [
    "Az __if__, __else__, __elif__ szavak segítségével írtunk olyan kódot, ami valamilyen feltételek alapján dönti el, hogy több különböző kódból melyik fusson le. A feltételeknek __állításoknak__ kell lenniük, vagyis olyan kifejezéseknek, amik vagy igazak, vagy hamisak. Több elágazást is ágyazhatunk egymásba. Az alábbi függvény például kirja egy szám típusát: "
   ]
  },
  {
   "cell_type": "code",
   "execution_count": 24,
   "metadata": {
    "collapsed": false
   },
   "outputs": [
    {
     "name": "stdout",
     "output_type": "stream",
     "text": [
      "ez int típusú szám\n",
      "ez float típusú szám\n",
      "ez nem szám!\n"
     ]
    }
   ],
   "source": [
    "def szam_tipus(szam):\n",
    "    if type(szam) == int:\n",
    "        print (\"ez int típusú szám\")\n",
    "    elif type(szam) == float:\n",
    "        print (\"ez float típusú szám\")\n",
    "    else:\n",
    "        print (\"ez nem szám!\")\n",
    "\n",
    "szam_tipus(3)\n",
    "szam_tipus(3.14)\n",
    "szam_tipus(\"3\")"
   ]
  },
  {
   "cell_type": "markdown",
   "metadata": {},
   "source": [
    "Az állításokat kombinálhatjuk __logikai műveletekkel__ is, mint a tagadás, a _vagy_, az _és_, stb. Így nagyon sokféleképp fogalmazhatjuk meg ugyanazt a feltételrendszert, és mindig azt választhatjuk, ami a legegyszerűbbnek vagy legkényelmesebbnek tűnik. Az alábbi függvények mind-mind azt döntik el, hogy egy szám 3 és 6 közé esik-e."
   ]
  },
  {
   "cell_type": "code",
   "execution_count": 6,
   "metadata": {
    "collapsed": false
   },
   "outputs": [],
   "source": [
    "def haromhat(szam):\n",
    "    if szam < 3:\n",
    "        return False\n",
    "    elif szam > 6:\n",
    "        return False\n",
    "    else:\n",
    "        return True"
   ]
  },
  {
   "cell_type": "code",
   "execution_count": 37,
   "metadata": {
    "collapsed": false
   },
   "outputs": [],
   "source": [
    "def haromhat2(szam):\n",
    "    if szam < 3 or szam > 6:\n",
    "        return False\n",
    "    else:\n",
    "        return True"
   ]
  },
  {
   "cell_type": "code",
   "execution_count": 38,
   "metadata": {
    "collapsed": false
   },
   "outputs": [],
   "source": [
    "def haromhat3(szam):\n",
    "    if not (szam < 3 or szam > 6):\n",
    "        return True\n",
    "    else:\n",
    "        return False"
   ]
  },
  {
   "cell_type": "code",
   "execution_count": 39,
   "metadata": {
    "collapsed": true
   },
   "outputs": [],
   "source": [
    "def haromhat4(szam):\n",
    "    if szam >= 3 and szam <= 6:\n",
    "        return True\n",
    "    else:\n",
    "        return False"
   ]
  },
  {
   "cell_type": "code",
   "execution_count": 40,
   "metadata": {
    "collapsed": true
   },
   "outputs": [],
   "source": [
    "def haromhat5(szam):\n",
    "    if szam >=3:\n",
    "        if szam <=6:\n",
    "            return True\n",
    "        else:\n",
    "            return False\n",
    "    else:\n",
    "        return False"
   ]
  },
  {
   "cell_type": "markdown",
   "metadata": {},
   "source": [
    "__I1.3 FELADAT__ Írj olyan függvényt, ami egy számról eldönti, hogy egész-e, függetlenül a típusától (tehát int és float típusra is működjön)!"
   ]
  },
  {
   "cell_type": "code",
   "execution_count": 22,
   "metadata": {
    "collapsed": false
   },
   "outputs": [],
   "source": [
    "# def egesz_e(szam):\n",
    "#   ...\n",
    "\n",
    "#print(egesz_e(3))\n",
    "#print(egesz_e(3.14))\n",
    "#print(egesz_e(3.0))"
   ]
  },
  {
   "cell_type": "markdown",
   "metadata": {},
   "source": [
    "__I1.4 FELADAT__ Írj olyan függvényt, ami beolvas két szót és kiírja a hosszabbat!"
   ]
  },
  {
   "cell_type": "code",
   "execution_count": 45,
   "metadata": {
    "collapsed": false
   },
   "outputs": [],
   "source": [
    "#def hosszabb():\n",
    "#    szo1 = input()\n",
    "#    szo2 = input()\n",
    "#    ...\n",
    "\n",
    "#hosszabb()"
   ]
  },
  {
   "cell_type": "markdown",
   "metadata": {},
   "source": [
    "#### Függvények kombinálása"
   ]
  },
  {
   "cell_type": "markdown",
   "metadata": {},
   "source": [
    "Emlékezzünk vissza arra a függvényre, ami megmondja egy számról, hogy hány jegyű. Ez volt az első példája annak, amikor két egyszerűbb művelet kombinálásával végeztünk el valami újat, amihez az eredeti műveleteknek nem sok köze van."
   ]
  },
  {
   "cell_type": "code",
   "execution_count": 15,
   "metadata": {
    "collapsed": false
   },
   "outputs": [
    {
     "data": {
      "text/plain": [
       "14"
      ]
     },
     "execution_count": 15,
     "metadata": {},
     "output_type": "execute_result"
    }
   ],
   "source": [
    "def hanyjegyu(x):\n",
    "    return len(str(x))\n",
    "\n",
    "hanyjegyu(74627462342834)"
   ]
  },
  {
   "cell_type": "markdown",
   "metadata": {},
   "source": [
    "Függvényeket azért definiálunk, hogy egy-egy kódot csak egyszer kelljen megírni, később elég legyen hivatkozni a függvényre. Például most már nagyon röviden megírhatjuk azt a programot, ami beolvas egy szót, és figyelmeztet, ha nem 3 és 6 karakter közé esik a hossza:"
   ]
  },
  {
   "cell_type": "code",
   "execution_count": 5,
   "metadata": {
    "collapsed": false
   },
   "outputs": [
    {
     "name": "stdout",
     "output_type": "stream",
     "text": [
      "Válassz egy jelszót (3-6 karakterig)!\n",
      "pingvin\n",
      "Ez nem jó!\n",
      "Válassz egy jelszót (3-6 karakterig)!\n",
      "kutya\n",
      "OK! Ezt választottad: kutya\n"
     ]
    }
   ],
   "source": [
    "def jelszo_beolvasas():\n",
    "    print(\"Válassz egy jelszót (3-6 karakterig)!\")\n",
    "    szo = input()\n",
    "    hossz = len(szo)\n",
    "    if not haromhat(hossz):\n",
    "        print(\"Ez nem jó!\")\n",
    "        jelszo_beolvasas()\n",
    "    else:\n",
    "        print(\"OK! Ezt választottad: \"+szo)\n",
    "\n",
    "jelszo_beolvasas()"
   ]
  },
  {
   "cell_type": "markdown",
   "metadata": {},
   "source": [
    "A függvényeknek nem csak azért lehetnek argumentumaik (paramétereik), hogy más és más adaton tudjanak dolgozni, hanem azért is, hogy ne csak egyféle dolgot tudjanak csinálni. Írjuk át a _haromhat_ függvényt úgy, hogy bármilyen két szám között tudjon ellenőrizni:"
   ]
  },
  {
   "cell_type": "code",
   "execution_count": 9,
   "metadata": {
    "collapsed": false
   },
   "outputs": [
    {
     "name": "stdout",
     "output_type": "stream",
     "text": [
      "True\n",
      "False\n"
     ]
    }
   ],
   "source": [
    "def tol_ig(szam, tol, ig):\n",
    "    if szam < tol:\n",
    "        return False\n",
    "    elif szam > ig:\n",
    "        return False\n",
    "    else:\n",
    "        return True\n",
    "\n",
    "print(tol_ig(4, 2, 5))\n",
    "print(tol_ig(4, 5, 7))"
   ]
  },
  {
   "cell_type": "markdown",
   "metadata": {},
   "source": [
    "Ha a jelszó-beolvasó függvényünket is szeretnénk ugyanígy \"általánosítani\", akkor minimum és maximum hossz annak is paramétere kell legyen:"
   ]
  },
  {
   "cell_type": "code",
   "execution_count": 12,
   "metadata": {
    "collapsed": false
   },
   "outputs": [
    {
     "name": "stdout",
     "output_type": "stream",
     "text": [
      "Válassz egy jelszót 8 - 12 karakterig!\n",
      "barázdabillegető\n",
      "Ez nem jó!\n",
      "Válassz egy jelszót 8 - 12 karakterig!\n",
      "pingvin\n",
      "Ez nem jó!\n",
      "Válassz egy jelszót 8 - 12 karakterig!\n",
      "jegesmedve\n",
      "OK! Ezt választottad: jegesmedve\n"
     ]
    }
   ],
   "source": [
    "def jelszo_beolvasas(tol, ig):\n",
    "    print(\"Válassz egy jelszót\", tol, \"-\", ig, \"karakterig!\")\n",
    "    szo = input()\n",
    "    hossz = len(szo)\n",
    "    if not tol_ig(hossz, tol, ig):\n",
    "        print(\"Ez nem jó!\")\n",
    "        jelszo_beolvasas(tol, ig)\n",
    "    else:\n",
    "        print(\"OK! Ezt választottad: \"+szo)\n",
    "\n",
    "jelszo_beolvasas(8, 12)"
   ]
  },
  {
   "cell_type": "markdown",
   "metadata": {},
   "source": [
    "Általában többet érnek az ilyen \"általánosabb\" függvények (vagyis ahol minél több a paraméter és ezért minél többféleképp tud futni), mert több helyzetben fogjuk tudni őket újrahasznosítani. Persze ha mindig mindent a lehető legáltalánosabbra írnánk meg, akkor soha nem készülne el semmi. Az arany középutat megtalálni nem könnyű, tapasztalt programozóknak sem szokott sikerülni."
   ]
  },
  {
   "cell_type": "code",
   "execution_count": 13,
   "metadata": {
    "collapsed": false
   },
   "outputs": [
    {
     "data": {
      "text/html": [
       "<img src=\"https://imgs.xkcd.com/comics/the_general_problem.png\"/>"
      ],
      "text/plain": [
       "<IPython.core.display.Image object>"
      ]
     },
     "execution_count": 13,
     "metadata": {},
     "output_type": "execute_result"
    }
   ],
   "source": [
    "from IPython.display import Image\n",
    "Image(url=\"https://imgs.xkcd.com/comics/the_general_problem.png\")"
   ]
  },
  {
   "cell_type": "markdown",
   "metadata": {},
   "source": [
    "#### Lista- és sztringműveletek"
   ]
  },
  {
   "cell_type": "markdown",
   "metadata": {},
   "source": [
    "A listák tetszőleges objektumokat tárolnak egy adott sorrendben. Sok művelet van, amit listákra és sztringekre ugyanúgy tudunk használni, mert mindkét típus __szekvencia__, a sztringek igazából karaktereknek egy adott sorrendje. Amikor egy lista vagy sztring egyes elemeire szeretnénk hivatkozni, __indexeket__ használunk, a számozás nullától indul. Ha negatív számokat írunk, azok hátulról számolják az elemeket."
   ]
  },
  {
   "cell_type": "code",
   "execution_count": 51,
   "metadata": {
    "collapsed": true
   },
   "outputs": [],
   "source": [
    "lista = [1, 2, 3, 4]"
   ]
  },
  {
   "cell_type": "code",
   "execution_count": 52,
   "metadata": {
    "collapsed": false
   },
   "outputs": [
    {
     "data": {
      "text/plain": [
       "2"
      ]
     },
     "execution_count": 52,
     "metadata": {},
     "output_type": "execute_result"
    }
   ],
   "source": [
    "lista[1]"
   ]
  },
  {
   "cell_type": "code",
   "execution_count": 53,
   "metadata": {
    "collapsed": false
   },
   "outputs": [
    {
     "data": {
      "text/plain": [
       "'n'"
      ]
     },
     "execution_count": 53,
     "metadata": {},
     "output_type": "execute_result"
    }
   ],
   "source": [
    "szo = \"pingvin\"\n",
    "szo[2]"
   ]
  },
  {
   "cell_type": "code",
   "execution_count": 59,
   "metadata": {
    "collapsed": false
   },
   "outputs": [
    {
     "data": {
      "text/plain": [
       "'v'"
      ]
     },
     "execution_count": 59,
     "metadata": {},
     "output_type": "execute_result"
    }
   ],
   "source": [
    "szo[-3]"
   ]
  },
  {
   "cell_type": "markdown",
   "metadata": {},
   "source": [
    "A listákat és sztringeket __szeletelhetjük__ is, ilyenkor egy-egy __intervallum__ kezdő- és végpontját adjuk meg számmal, közéjük kettőspontot teszünk. Az első szám jelöli az első olyan elemet, amit beveszünk a \"szeletbe\", a második szám pedig az első olyan elemet, amit már nem. Ha valamelyik számot elhagyjuk, akkor az a sztring vagy lista elejét ill. végét jelenti."
   ]
  },
  {
   "cell_type": "code",
   "execution_count": 54,
   "metadata": {
    "collapsed": false
   },
   "outputs": [
    {
     "data": {
      "text/plain": [
       "'ing'"
      ]
     },
     "execution_count": 54,
     "metadata": {},
     "output_type": "execute_result"
    }
   ],
   "source": [
    "szo[1:4]"
   ]
  },
  {
   "cell_type": "code",
   "execution_count": 55,
   "metadata": {
    "collapsed": false
   },
   "outputs": [
    {
     "data": {
      "text/plain": [
       "[3]"
      ]
     },
     "execution_count": 55,
     "metadata": {},
     "output_type": "execute_result"
    }
   ],
   "source": [
    "lista[2:3]"
   ]
  },
  {
   "cell_type": "code",
   "execution_count": 56,
   "metadata": {
    "collapsed": false
   },
   "outputs": [
    {
     "data": {
      "text/plain": [
       "'pi'"
      ]
     },
     "execution_count": 56,
     "metadata": {},
     "output_type": "execute_result"
    }
   ],
   "source": [
    "szo[:2]"
   ]
  },
  {
   "cell_type": "code",
   "execution_count": 58,
   "metadata": {
    "collapsed": false
   },
   "outputs": [
    {
     "data": {
      "text/plain": [
       "[3, 4]"
      ]
     },
     "execution_count": 58,
     "metadata": {},
     "output_type": "execute_result"
    }
   ],
   "source": [
    "lista[-2:]"
   ]
  },
  {
   "cell_type": "markdown",
   "metadata": {},
   "source": [
    "Hallottunk még az __index__, __count__, __copy__, __sort__, __reverse__ és __split__ parancsokról is, próbáljunk emlékezni, melyik mit csinál:"
   ]
  },
  {
   "cell_type": "code",
   "execution_count": 60,
   "metadata": {
    "collapsed": true
   },
   "outputs": [],
   "source": [
    "weasleyk = ['Bill', 'Charlie', 'Percy', 'Fred', 'George', 'Ron', 'Ginny']"
   ]
  },
  {
   "cell_type": "code",
   "execution_count": 66,
   "metadata": {
    "collapsed": false
   },
   "outputs": [
    {
     "data": {
      "text/plain": [
       "4"
      ]
     },
     "execution_count": 66,
     "metadata": {},
     "output_type": "execute_result"
    }
   ],
   "source": [
    "weasleyk.index(\"George\")"
   ]
  },
  {
   "cell_type": "code",
   "execution_count": 68,
   "metadata": {
    "collapsed": false
   },
   "outputs": [
    {
     "data": {
      "text/plain": [
       "2"
      ]
     },
     "execution_count": 68,
     "metadata": {},
     "output_type": "execute_result"
    }
   ],
   "source": [
    "szamok = [2,4,2,5,3]\n",
    "szamok.count(2)"
   ]
  },
  {
   "cell_type": "code",
   "execution_count": 61,
   "metadata": {
    "collapsed": true
   },
   "outputs": [],
   "source": [
    "weasleyk2 = weasleyk.copy()"
   ]
  },
  {
   "cell_type": "code",
   "execution_count": 63,
   "metadata": {
    "collapsed": false
   },
   "outputs": [
    {
     "data": {
      "text/plain": [
       "['Bill', 'Charlie', 'Fred', 'George', 'Ginny', 'Percy', 'Ron']"
      ]
     },
     "execution_count": 63,
     "metadata": {},
     "output_type": "execute_result"
    }
   ],
   "source": [
    "weasleyk2.sort()\n",
    "weasleyk2"
   ]
  },
  {
   "cell_type": "code",
   "execution_count": 69,
   "metadata": {
    "collapsed": false
   },
   "outputs": [
    {
     "data": {
      "text/plain": [
       "['Ron', 'Percy', 'Ginny', 'George', 'Fred', 'Charlie', 'Bill']"
      ]
     },
     "execution_count": 69,
     "metadata": {},
     "output_type": "execute_result"
    }
   ],
   "source": [
    "weasleyk2.reverse()\n",
    "weasleyk2"
   ]
  },
  {
   "cell_type": "code",
   "execution_count": 70,
   "metadata": {
    "collapsed": false
   },
   "outputs": [
    {
     "data": {
      "text/plain": [
       "['Arthur',\n",
       " 'Weasley,',\n",
       " 'a',\n",
       " 'Mágiaügyi',\n",
       " 'Minisztérium',\n",
       " 'mugli',\n",
       " 'tárgyakkal',\n",
       " 'való',\n",
       " 'visszaéléseket',\n",
       " 'vizsgáló',\n",
       " 'osztályának',\n",
       " 'vezetője',\n",
       " 'nyerte',\n",
       " 'a',\n",
       " 'Reggeli',\n",
       " 'Próféta',\n",
       " 'idei',\n",
       " 'Nagy',\n",
       " 'Galleon',\n",
       " 'nyereménysorsolásának',\n",
       " 'fődíját.']"
      ]
     },
     "execution_count": 70,
     "metadata": {},
     "output_type": "execute_result"
    }
   ],
   "source": [
    "mondat = \"Arthur Weasley, a Mágiaügyi Minisztérium mugli tárgyakkal való visszaéléseket vizsgáló osztályának vezetője nyerte a Reggeli Próféta idei Nagy Galleon nyereménysorsolásának fődíját.\"\n",
    "mondat.split()"
   ]
  },
  {
   "cell_type": "markdown",
   "metadata": {},
   "source": [
    "__I1.5 FELADAT__ Írj olyan függvényt, aminek ha átadunk egy mondatot, akkor megnézi, hogy van-e a végén pont. Ha igen, adja vissza változatlanul, ha nem, akkor tegyen a végére pontot és úgy adja vissza!"
   ]
  },
  {
   "cell_type": "code",
   "execution_count": null,
   "metadata": {
    "collapsed": true
   },
   "outputs": [],
   "source": []
  },
  {
   "cell_type": "markdown",
   "metadata": {},
   "source": [
    "__I1.6 FELADAT__ Írj olyan függvényt, aminek ha átadunk egy mondatot, akkor megnézi, hogy nagybetűvel kezdődik-e. Ha igen, adja vissza változatlanul, ha nem, akkor javítsa ki!"
   ]
  },
  {
   "cell_type": "code",
   "execution_count": null,
   "metadata": {
    "collapsed": true
   },
   "outputs": [],
   "source": []
  },
  {
   "cell_type": "markdown",
   "metadata": {},
   "source": [
    "__I1.7 FELADAT__ Írj olyan függvényt, aminek átadhatunk egy listát, és eldönti, hogy sorba van-e rendezve."
   ]
  },
  {
   "cell_type": "code",
   "execution_count": null,
   "metadata": {
    "collapsed": true
   },
   "outputs": [],
   "source": []
  },
  {
   "cell_type": "markdown",
   "metadata": {},
   "source": [
    "__I1.8 FELADAT__ Írj olyan függvényt, ami beolvas három szót, majd kiírja őket ábécé-sorrendben."
   ]
  },
  {
   "cell_type": "code",
   "execution_count": null,
   "metadata": {
    "collapsed": true
   },
   "outputs": [],
   "source": []
  },
  {
   "cell_type": "markdown",
   "metadata": {},
   "source": [
    "__I1.9 FELADAT__ Írj olyan függvényt, ami beolvas egy szót, majd kiírja úgy, hogy ha magánhangzóval kezdődik, akkor elé írja, hogy \"Az\", ha mássalhangzóval, akkor azt, hogy \"A\""
   ]
  },
  {
   "cell_type": "code",
   "execution_count": 1,
   "metadata": {
    "collapsed": true
   },
   "outputs": [],
   "source": [
    "maganhangzok = \"aáeéiíoóöőuúüű\""
   ]
  },
  {
   "cell_type": "code",
   "execution_count": null,
   "metadata": {
    "collapsed": true
   },
   "outputs": [],
   "source": []
  },
  {
   "cell_type": "markdown",
   "metadata": {},
   "source": [
    "__I1.10a FELADAT__ Írj olyan függvényt, ami addig olvas be egymásután szavakat, amíg a felhasználó azt nem írja be: \"elég\". Ezután pedig írja ki az összes szót ábécé-sorrendben!"
   ]
  },
  {
   "cell_type": "code",
   "execution_count": null,
   "metadata": {
    "collapsed": true
   },
   "outputs": [],
   "source": []
  },
  {
   "cell_type": "markdown",
   "metadata": {},
   "source": [
    "__I1.10b FELADAT__ Az előzőben készült függvényt \"szedd szét\" két függvényre. Ehhez készüljön először egy olyan függvény, aminek egy listát lehet átadni, és az elemeit kiírja ábécében, a második pedig használja fel, hogy már van ilyen függvényünk!"
   ]
  },
  {
   "cell_type": "code",
   "execution_count": null,
   "metadata": {
    "collapsed": true
   },
   "outputs": [],
   "source": []
  },
  {
   "cell_type": "markdown",
   "metadata": {},
   "source": [
    "__I1.11 FELADAT__ Írj olyan függvényt, aminek átadunk egy szót, ő pedig kiírja a szó első betűjét, a _maradékkal_ pedig elindítja saját magát. Egy elágazás gondoskodjon róla, hogy ha \"elfogyott\" a sztring, akkor már ne csináljon semmit a függvény."
   ]
  },
  {
   "cell_type": "code",
   "execution_count": null,
   "metadata": {
    "collapsed": true
   },
   "outputs": [],
   "source": []
  }
 ],
 "metadata": {
  "kernelspec": {
   "display_name": "Python 3",
   "language": "python",
   "name": "python3"
  },
  "language_info": {
   "codemirror_mode": {
    "name": "ipython",
    "version": 3
   },
   "file_extension": ".py",
   "mimetype": "text/x-python",
   "name": "python",
   "nbconvert_exporter": "python",
   "pygments_lexer": "ipython3",
   "version": "3.5.2"
  }
 },
 "nbformat": 4,
 "nbformat_minor": 1
}
