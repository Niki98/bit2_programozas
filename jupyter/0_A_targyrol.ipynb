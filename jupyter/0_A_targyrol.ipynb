{
 "cells": [
  {
   "cell_type": "markdown",
   "metadata": {},
   "source": [
    "# 0. A tárgyról"
   ]
  },
  {
   "cell_type": "markdown",
   "metadata": {},
   "source": [
    "### Technikai infók\n",
    "(Ez mind fenn van a honlapon is)\n",
    "\n",
    "* A tárgy neve: BIT II - Programozás\n",
    "* honlapja: https://www.aut.bme.hu/Course/programozas\n",
    "* helye és ideje (2016 őszén):\n",
    "  * előadás: szerda 10.15-12.00, Q.BF13\n",
    "  * labor: kedd 8.15-10.45 VAGY péntek 9.15-12.00, IL206\n",
    "* oktatója: Recski Gábor, BME Automatizálási és Alkamazott Informatikai Tanszék\n",
    "  * e-mail: recski.gabor@aut.bme.hu\n",
    "  * szoba: Q.B229 (írj, ha jössz!)\n",
    "  * mobil: +36209709419 (ha sürgős)"
   ]
  },
  {
   "cell_type": "markdown",
   "metadata": {},
   "source": [
    "### Milyen lesz a félév?\n",
    "* Jó :)\n",
    "* Sokat fogunk programozni, elméletről csak kevés szó lesz.\n",
    "* Az előadásokon lesznek új dolgok, a laborokon csak gyakorlunk.\n",
    "* Sok feladat lesz, hogy otthon is lehessen gyakorolni, érdemes!\n",
    "* __Mindig lehet még több segítséget kérni, ha nem megy!__\n",
    "* __Együtt dolgozni szabad, sőt ajánlott!__"
   ]
  },
  {
   "cell_type": "markdown",
   "metadata": {},
   "source": [
    "### Milyen lesz a számonkérés?\n",
    "* három zh-t fogunk \"írni\" (gépelni), mindet lehet javítani!\n",
    "* plusz pontokért lehet házit is beadni\n",
    "* a vizsgán is kell majd programozni\n",
    "* __nem lesznek meglepetések, csak olyat kell csinálni zh-n/vizsgán, amit sokat gyakoroltunk__"
   ]
  },
  {
   "cell_type": "markdown",
   "metadata": {},
   "source": [
    "### A Jupyterről\n",
    " Nem kell semmit telepíteni, minden feladat elvégezhető lesz bármilyen gépről, böngészőben. Az első laboron mindenki kap hozzáférést egy Jupyter nevű rendszerhez. Ez az oldal is Jupyter-ben íródott.\n",
    " \n",
    " __A Jupyter lényege, hogy ezeken az oldalakon lehet programozni is__\n"
   ]
  },
  {
   "cell_type": "code",
   "execution_count": 1,
   "metadata": {
    "collapsed": false
   },
   "outputs": [
    {
     "name": "stdout",
     "output_type": "stream",
     "text": [
      "4\n"
     ]
    }
   ],
   "source": [
    "#Ez itt egy sor programkód:\n",
    "print(2+2)\n",
    "#Ennél azért írunk majd érdekesebbet is"
   ]
  },
  {
   "cell_type": "markdown",
   "metadata": {},
   "source": [
    "__Ha rákattintunk a kódra, és Shift+Entert nyomunk, a kód lefut. A kódot pedig bármennyiszer lehet módosítani, és újra le lehet futtatni__"
   ]
  },
  {
   "cell_type": "markdown",
   "metadata": {
    "collapsed": true
   },
   "source": [
    "Akkor sincs baj, ha \"rossz\" kódot próbálunk lefuttatni, legfeljebb kapunk egy hibaüzenetet:"
   ]
  },
  {
   "cell_type": "code",
   "execution_count": 1,
   "metadata": {
    "collapsed": false
   },
   "outputs": [
    {
     "ename": "SyntaxError",
     "evalue": "unexpected EOF while parsing (<ipython-input-1-a1475dfe2c75>, line 1)",
     "output_type": "error",
     "traceback": [
      "\u001b[0;36m  File \u001b[0;32m\"<ipython-input-1-a1475dfe2c75>\"\u001b[0;36m, line \u001b[0;32m1\u001b[0m\n\u001b[0;31m    print(2+2\u001b[0m\n\u001b[0m             ^\u001b[0m\n\u001b[0;31mSyntaxError\u001b[0m\u001b[0;31m:\u001b[0m unexpected EOF while parsing\n"
     ]
    }
   ],
   "source": [
    "print(2+2"
   ]
  },
  {
   "cell_type": "markdown",
   "metadata": {},
   "source": [
    "__De ez nem baj, nem rontottunk el semmit!__"
   ]
  },
  {
   "cell_type": "markdown",
   "metadata": {
    "collapsed": true
   },
   "source": [
    "__FELADAT__: próbálgasd kicsit a Jupyter felületét:\n",
    "- javítsd ki a fenti kódot!\n",
    "- írj három különböző sor kódot, ami 12-t ír ki!\n",
    "- később szükségünk lesz néhány infóra mindenkitől, módosítsd az alábbi bejegyzést, hogy Rólad szóljon! Próbálj nem okozni hibaüzenetet!"
   ]
  },
  {
   "cell_type": "code",
   "execution_count": 10,
   "metadata": {
    "collapsed": false
   },
   "outputs": [],
   "source": [
    "\n",
    "hallgato = {\"vezetéknév\": \"Róbert\",\n",
    "            \"keresztnév\": \"Gida\",\n",
    "            \"felhasználónév\": \"robertgida\",\n",
    "            \"email\": \"gida.robert@gmail.com\",\n",
    "            \"születésnap\": {\"év\": 1920,\n",
    "                            \"hónap\": \"augusztus\",\n",
    "                            \"nap\": 21},\n",
    "            \"kedvenc\": {\"étel\": \"rakott krumpli\",\n",
    "                        \"állat\": \"medve\",\n",
    "                        \"szín\": \"kék\",\n",
    "                        \"zene\": \"Halász Judit\"},\n",
    "            \"hobbik\": [\"fáramászás\", \"színezés\", \"sütievés\"],\n",
    "            \"ha nagy lesz\": [\"pilóta\", \"állatidomár\", \"hippi\"]}"
   ]
  }
 ],
 "metadata": {
  "kernelspec": {
   "display_name": "Python 3",
   "language": "python",
   "name": "python3"
  },
  "language_info": {
   "codemirror_mode": {
    "name": "ipython",
    "version": 3
   },
   "file_extension": ".py",
   "mimetype": "text/x-python",
   "name": "python",
   "nbconvert_exporter": "python",
   "pygments_lexer": "ipython3",
   "version": "3.5.2"
  }
 },
 "nbformat": 4,
 "nbformat_minor": 1
}
